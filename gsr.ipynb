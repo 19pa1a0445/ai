{
  "nbformat": 4,
  "nbformat_minor": 0,
  "metadata": {
    "colab": {
      "name": "gsr.ipynb",
      "provenance": [],
      "authorship_tag": "ABX9TyMmhcB2AOqLcqt/CoajkeQq",
      "include_colab_link": true
    },
    "kernelspec": {
      "name": "python3",
      "display_name": "Python 3"
    }
  },
  "cells": [
    {
      "cell_type": "markdown",
      "metadata": {
        "id": "view-in-github",
        "colab_type": "text"
      },
      "source": [
        "<a href=\"https://colab.research.google.com/github/19pa1a0445/ai/blob/master/gsr.ipynb\" target=\"_parent\"><img src=\"https://colab.research.google.com/assets/colab-badge.svg\" alt=\"Open In Colab\"/></a>"
      ]
    },
    {
      "cell_type": "code",
      "metadata": {
        "id": "_emNxjrmi7Wd",
        "colab_type": "code",
        "colab": {}
      },
      "source": [
        "a=10\n",
        "b=13\n",
        "if(a>b):\n",
        "  print(a,\"is the largest number\")\n",
        "else :\n",
        "  print(b,\"is the largest number\")"
      ],
      "execution_count": 0,
      "outputs": []
    },
    {
      "cell_type": "code",
      "metadata": {
        "id": "YgCKTEVUk5HE",
        "colab_type": "code",
        "colab": {
          "base_uri": "https://localhost:8080/",
          "height": 85
        },
        "outputId": "905f535a-ed8d-4f76-b62e-d2c53cf45bce"
      },
      "source": [
        "r=int(input(\"enter the positive range\"))\n",
        "for i in range(1,r+1):\n",
        "  if (i%2==0):\n",
        "    print(i,\"is a even number\")\n",
        "  else:\n",
        "    print(i,\"is a odd number\" )"
      ],
      "execution_count": 4,
      "outputs": [
        {
          "output_type": "stream",
          "text": [
            "enter the positive range3\n",
            "1 is a odd number\n",
            "2 is a even number\n",
            "3 is a odd number\n"
          ],
          "name": "stdout"
        }
      ]
    },
    {
      "cell_type": "code",
      "metadata": {
        "id": "N7b-9XCBmpFP",
        "colab_type": "code",
        "colab": {}
      },
      "source": [
        ""
      ],
      "execution_count": 0,
      "outputs": []
    }
  ]
}